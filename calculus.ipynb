{
 "cells": [
  {
   "cell_type": "code",
   "execution_count": 156,
   "id": "f20496aa",
   "metadata": {},
   "outputs": [],
   "source": [
    "import mujoco_py\n",
    "import numpy as np"
   ]
  },
  {
   "cell_type": "code",
   "execution_count": 157,
   "id": "6958585b",
   "metadata": {},
   "outputs": [],
   "source": [
    "# creacion del modelo del robot\n",
    "model = mujoco_py.load_model_from_path(\"RobotEnv/assets/UR5/robotModelV2.xml\")\n",
    "sim = mujoco_py.MjSim(model)\n",
    "#viewer = mujoco_py.MjViewer(sim)"
   ]
  },
  {
   "cell_type": "code",
   "execution_count": 158,
   "id": "165d4ae8",
   "metadata": {},
   "outputs": [
    {
     "name": "stdout",
     "output_type": "stream",
     "text": [
      "MjSimState(time=0.0, qpos=array([0., 0., 0., 0., 0., 0.]), qvel=array([0., 0., 0., 0., 0., 0.]), act=None, udd_state={})\n",
      "señal de control [0. 0. 0. 0. 0. 0.]\n",
      "posicion de las articulaciones [0. 0. 0. 0. 0. 0.]\n",
      "[0. 0. 0. 0. 0. 0.]\n"
     ]
    }
   ],
   "source": [
    "sim_state = sim.get_state()\n",
    "print(sim_state)\n",
    "controller = np.copy(sim.data.ctrl).flatten()\n",
    "print(\"señal de control\",controller)\n",
    "print(\"posicion de las articulaciones\",sim.data.qpos)\n",
    "init_position = sim.data.qpos.ravel().copy()\n",
    "print(init_position)"
   ]
  },
  {
   "cell_type": "code",
   "execution_count": 159,
   "id": "3df0bea4",
   "metadata": {},
   "outputs": [
    {
     "name": "stdout",
     "output_type": "stream",
     "text": [
      "antes del control 0.0\n",
      "despues del control 2.786903368567068e-09\n",
      "[1. 1. 1. 1. 1. 1.]\n"
     ]
    }
   ],
   "source": [
    "sim.data.qpos[0] = 0\n",
    "print(\"antes del control\",sim.data.qpos[0])\n",
    "controller[:] = 1\n",
    "sim.step()\n",
    "print(\"despues del control\",sim.data.qpos[0])\n",
    "print(controller)"
   ]
  },
  {
   "cell_type": "code",
   "execution_count": 211,
   "id": "84e3d939",
   "metadata": {},
   "outputs": [
    {
     "name": "stdout",
     "output_type": "stream",
     "text": [
      "[[0.1 0.2]\n",
      " [0.4 0.5]\n",
      " [0.5 0.6]]\n",
      "[0.16460377 0.48783695 0.53088679]\n",
      "[0.2 0.5 0.6]\n"
     ]
    }
   ],
   "source": [
    "target_bounds = np.array(((0.1, 0.2), (0.4, 0.5), (0.5, 0.6)))\n",
    "goal = np.random.rand(3) * (target_bounds[:, 1] - target_bounds[:, 0] \n",
    "                           ) + target_bounds[:, 0]\n",
    "print(target_bounds)\n",
    "print(goal)\n",
    "print(target_bounds[:,1] - target_bounds[:,0] + target_bounds[:,0])"
   ]
  },
  {
   "cell_type": "code",
   "execution_count": 212,
   "id": "10f62165",
   "metadata": {},
   "outputs": [
    {
     "name": "stdout",
     "output_type": "stream",
     "text": [
      "1.5\n"
     ]
    }
   ],
   "source": [
    "x = np.linalg.norm(0.5 - 2)\n",
    "print(x)"
   ]
  },
  {
   "cell_type": "code",
   "execution_count": 2,
   "id": "fa2a63f1",
   "metadata": {},
   "outputs": [
    {
     "name": "stdout",
     "output_type": "stream",
     "text": [
      "Available Themes: \r\n",
      "   chesterish\r\n",
      "   grade3\r\n",
      "   gruvboxd\r\n",
      "   gruvboxl\r\n",
      "   monokai\r\n",
      "   oceans16\r\n",
      "   onedork\r\n",
      "   solarizedd\r\n",
      "   solarizedl\r\n"
     ]
    }
   ],
   "source": [
    "!jt -l"
   ]
  },
  {
   "cell_type": "code",
   "execution_count": 4,
   "id": "668f8ca1",
   "metadata": {},
   "outputs": [],
   "source": [
    "!jt -t grade3"
   ]
  }
 ],
 "metadata": {
  "kernelspec": {
   "display_name": "Python 3",
   "language": "python",
   "name": "python3"
  },
  "language_info": {
   "codemirror_mode": {
    "name": "ipython",
    "version": 3
   },
   "file_extension": ".py",
   "mimetype": "text/x-python",
   "name": "python",
   "nbconvert_exporter": "python",
   "pygments_lexer": "ipython3",
   "version": "3.6.9"
  }
 },
 "nbformat": 4,
 "nbformat_minor": 5
}
