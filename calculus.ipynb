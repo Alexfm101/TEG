{
 "cells": [
  {
   "cell_type": "code",
   "execution_count": 1,
   "id": "f20496aa",
   "metadata": {},
   "outputs": [],
   "source": [
    "import mujoco_py\n",
    "import numpy as np"
   ]
  },
  {
   "cell_type": "code",
   "execution_count": 2,
   "id": "6958585b",
   "metadata": {},
   "outputs": [],
   "source": [
    "# creacion del modelo del robot\n",
    "model = mujoco_py.load_model_from_path(\"RobotEnv/assets/UR5/robotModelV2.xml\")\n",
    "sim = mujoco_py.MjSim(model)\n",
    "#viewer = mujoco_py.MjViewer(sim)"
   ]
  },
  {
   "cell_type": "code",
   "execution_count": 3,
   "id": "165d4ae8",
   "metadata": {},
   "outputs": [
    {
     "name": "stdout",
     "output_type": "stream",
     "text": [
      "MjSimState(time=0.0, qpos=array([0., 0., 0., 0., 0., 0.]), qvel=array([0., 0., 0., 0., 0., 0.]), act=None, udd_state={})\n",
      "señal de control [0. 0. 0. 0. 0. 0.]\n",
      "posicion de las articulaciones [0. 0. 0. 0. 0. 0.]\n",
      "[0. 0. 0. 0. 0. 0.]\n"
     ]
    }
   ],
   "source": [
    "sim_state = sim.get_state()\n",
    "print(sim_state)\n",
    "controller = np.copy(sim.data.ctrl).flatten()\n",
    "print(\"señal de control\",controller)\n",
    "print(\"posicion de las articulaciones\",sim.data.qpos)\n",
    "init_position = sim.data.qpos.ravel().copy()\n",
    "print(init_position)"
   ]
  },
  {
   "cell_type": "code",
   "execution_count": 4,
   "id": "3df0bea4",
   "metadata": {},
   "outputs": [
    {
     "name": "stdout",
     "output_type": "stream",
     "text": [
      "antes del control 0.0\n",
      "despues del control 2.786903368567068e-09\n",
      "[1. 1. 1. 1. 1. 1.]\n"
     ]
    }
   ],
   "source": [
    "sim.data.qpos[0] = 0\n",
    "print(\"antes del control\",sim.data.qpos[0])\n",
    "controller[:] = 1\n",
    "sim.step()\n",
    "print(\"despues del control\",sim.data.qpos[0])\n",
    "print(controller)"
   ]
  },
  {
   "cell_type": "code",
   "execution_count": 7,
   "id": "31ef4164",
   "metadata": {},
   "outputs": [
    {
     "name": "stdout",
     "output_type": "stream",
     "text": [
      "6\n"
     ]
    }
   ],
   "source": [
    "print(len(sim.data.ctrl))"
   ]
  },
  {
   "cell_type": "code",
   "execution_count": 11,
   "id": "e597a97b",
   "metadata": {},
   "outputs": [
    {
     "data": {
      "text/plain": [
       "MjSimState(time=0.02, qpos=array([ 2.78690337e-09,  1.08480942e-11, -3.29983642e-11, -1.02917011e-10,\n",
       "        5.41398107e-10, -3.11235355e-11]), qvel=array([ 1.39345168e-07,  5.42404710e-10, -1.64991821e-09, -5.14585057e-09,\n",
       "        2.70699054e-08, -1.55617678e-09]), act=None, udd_state={})"
      ]
     },
     "execution_count": 11,
     "metadata": {},
     "output_type": "execute_result"
    }
   ],
   "source": [
    "sim."
   ]
  },
  {
   "cell_type": "code",
   "execution_count": null,
   "id": "55171141",
   "metadata": {},
   "outputs": [],
   "source": []
  }
 ],
 "metadata": {
  "kernelspec": {
   "display_name": "Python 3",
   "language": "python",
   "name": "python3"
  },
  "language_info": {
   "codemirror_mode": {
    "name": "ipython",
    "version": 3
   },
   "file_extension": ".py",
   "mimetype": "text/x-python",
   "name": "python",
   "nbconvert_exporter": "python",
   "pygments_lexer": "ipython3",
   "version": "3.6.9"
  }
 },
 "nbformat": 4,
 "nbformat_minor": 5
}
