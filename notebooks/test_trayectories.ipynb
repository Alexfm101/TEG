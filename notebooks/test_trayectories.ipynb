{
 "cells": [
  {
   "cell_type": "markdown",
   "metadata": {},
   "source": [
    "# Test de trayectorias"
   ]
  },
  {
   "cell_type": "code",
   "execution_count": 1,
   "metadata": {},
   "outputs": [],
   "source": [
    "# importar librerias\n",
    "import time\n",
    "import numpy as np\n",
    "import matplotlib.pyplot as plt\n",
    "from scipy.interpolate import BSpline, make_interp_spline \n",
    "import mujoco_py\n",
    "\n",
    "from RobotEnv.tools.controllers import PID\n",
    "from RobotEnv.tools import simulation\n",
    "from RobotEnv.tools.controllers import Manipulator_Agent\n",
    "from RobotEnv.tools.logger import Logger\n",
    "\n",
    "import glfw\n"
   ]
  },
  {
   "cell_type": "code",
   "execution_count": 2,
   "metadata": {},
   "outputs": [
    {
     "name": "stdout",
     "output_type": "stream",
     "text": [
      "Creating window glfw\n",
      "resuelto en: 292 pasos 0.584 seg\n",
      "no se pudo alcanzar el target en: 2499 pasos 4.998 seg\n",
      "no se pudo alcanzar el target en: 2499 pasos 4.998 seg\n",
      "resuelto en: 402 pasos 0.804 seg\n",
      "resuelto en: 118 pasos 0.23600000000000002 seg\n",
      "resuelto en: 649 pasos 1.298 seg\n",
      "MjSimState(time=1.300000000000001, qpos=array([-0.14126562,  1.99016962,  1.65687546,  0.67083724,  0.0332729 ,\n",
      "       -2.9432287 ]), qvel=array([  0.75271784,  -0.37573298,   1.14907791,   1.75416142,\n",
      "        -3.72526028, -14.57240066]), act=None, udd_state={})\n"
     ]
    },
    {
     "data": {
      "image/png": "[encoded data removed]",
      "text/plain": [
       "<Figure size 432x288 with 1 Axes>"
      ]
     },
     "metadata": {
      "needs_background": "light"
     },
     "output_type": "display_data"
    }
   ],
   "source": [
    "def main():\n",
    "    #simulator\n",
    "    sim = simulation.create_simulation(\"robotModelV2.xml\")\n",
    "\n",
    "    #controller\n",
    "    controller = Manipulator_Agent(\"../agents/ddpg4/pyt_save/model.pt\", sim, 4, render=True)\n",
    "\n",
    "    # data recollector\n",
    "    logger = Logger()\n",
    "\n",
    "    position, qpos, control = controller.move_to(np.array([-0.3, 0.0, 0.5]), distance_threshold=0.05, timer=2500)\n",
    "\n",
    "    position, qpos, control = controller.move_to(np.array([0.0, 0.3, 0.5]), distance_threshold=0.05, timer=2500)\n",
    "\n",
    "    position, qpos, control = controller.move_to(np.array([0.0, 0.0, 0.5]), distance_threshold=0.05, timer=2500)\n",
    "\n",
    "    position, qpos, control = controller.move_to(np.array([0.0, -0.2, 0.5]), distance_threshold=0.05, timer=2500)\n",
    "\n",
    "    position, qpos, control = controller.move_to(np.array([-0.2, 0.0, 0.5]), distance_threshold=0.05, timer=2500)\n",
    "\n",
    "    controller.reset()\n",
    "\n",
    "    position, qpos, control = controller.move_to(np.array([-0.2, 0.0, 0.5]), distance_threshold=0.05, timer=2500)\n",
    "\n",
    "\n",
    "    print(sim.get_state())\n",
    "\n",
    "\n",
    "    x = [i*0.002 for i in range(len(position[\"pos_x\"]))]\n",
    "    time = [i*0.002 for i in range(len(qpos[\"base_link\"]))]\n",
    "    y = [i*0.002 for i in range(len(position[\"pos_y\"]))]\n",
    "    # z = [i*0.002 for i in range(len(position[\"pos_z\"]))]\n",
    "    error_a = [-0.4 for i in range(len(position[\"pos_y\"]))]\n",
    "\n",
    "    # logger.plot_trajectory(time, qpos[\"base_link\"], grid=True, title=\" accion de control\")\n",
    "\n",
    "\n",
    "    logger.plot_trajectory(x,  position[\"pos_x\"], grid=True, title=\"posicion en x\")\n",
    "    # logger.plot_trajectory(y,  position[\"pos_y\"], grid=True, title=\"posición en y\")\n",
    "    # logger.plot_trajectory(z,  position[\"pos_z\"], grid=True)\n",
    "    # logger.plot_error(y, error_a=position[\"pos_y\"], error_b=error_a, grid=True)\n",
    "    glfw.terminate()\n",
    "\n",
    "main()"
   ]
  }
 ],
 "metadata": {
  "interpreter": {
   "hash": "31f2aee4e71d21fbe5cf8b01ff0e069b9275f58929596ceb00d14d90e3e16cd6"
  },
  "kernelspec": {
   "display_name": "Python 3.6.9 64-bit",
   "language": "python",
   "name": "python3"
  },
  "language_info": {
   "codemirror_mode": {
    "name": "ipython",
    "version": 3
   },
   "file_extension": ".py",
   "mimetype": "text/x-python",
   "name": "python",
   "nbconvert_exporter": "python",
   "pygments_lexer": "ipython3",
   "version": "3.6.9"
  },
  "orig_nbformat": 4
 },
 "nbformat": 4,
 "nbformat_minor": 2
}
