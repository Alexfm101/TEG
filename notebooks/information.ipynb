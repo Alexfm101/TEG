{
 "cells": [
  {
   "cell_type": "markdown",
   "metadata": {},
   "source": [
    "# Información  general"
   ]
  },
  {
   "cell_type": "markdown",
   "metadata": {},
   "source": [
    "### ***Datos del robot***\n",
    "\n",
    "base_link: 1\n",
    "\n",
    "* masa: 3.7\n",
    "* inercia: 0.0102675 0.0102675 0.00666\n",
    "\n",
    "shoulder_link: 2\n",
    "* masa: 8.393\n",
    "* inercia:  0.226891 0.226891 0.0151074\n",
    "\n",
    "elbow_link: 3\n",
    "* masa: 2.275\n",
    "* inercia: 0.0494433 0.0494433 0.004095\n",
    "\n",
    "wrist_1_link: 4\n",
    "* masa: 1.219\n",
    "* inercia: 0.21942 0.111173 0.111173\n",
    "\n",
    "wrist_2_link: 5\n",
    "* masa: 1.219\n",
    "* inercia:   0.21942 0.111173 0.111173\n",
    "\n",
    "wrist_3_link: 6\n",
    "* masa: 0.1879\n",
    "* inercia: 0.033822 0.0171365 0.0171365\n",
    "\n",
    "ee_link:\n",
    "* masa: 0.001\n",
    "* inercia: 1.66667e-08 1.66667e-08 1.66667e-08\n",
    "\n",
    "robotiq_85_base_link:\n",
    "* masa: 0.30915\n",
    "* inercia: 0.00030737 0.000289758 0.000199102\n",
    "\n",
    "left_outer_knuckle:\n",
    "* masa: 0.00684839\n",
    "* inercia: 1.38892e-06 1.28691e-06 2.45951e-07\n",
    "\n",
    "left_outer_finger:\n",
    "* masa: 0.0273094\n",
    "* inercia: 8.53972e-06 6.91333e-06 2.22664e-06\n",
    "\n",
    "left_inner_knuckle:\n",
    "* masa: 0.0110931\n",
    "* inercia: 5.59353e-06 3.96549e-06 1.88108e-06\n",
    "\n",
    "left_inner_finger:\n",
    "* masa: 0.00724255\n",
    "* inercia: 1.70064e-06 1.58577e-06 3.69621e-07\n",
    "\n",
    "right_inner_knuckle:\n",
    "* masa: 0.0110931\n",
    "* inercia: 5.59353e-06 3.96549e-06 1.88108e-06\n",
    "\n",
    "right_inner_finger:\n",
    "* masa: 0.00724255\n",
    "* inercia: 1.70064e-06 1.58577e-06 3.69621e-07\n",
    "\n",
    "\n",
    "right_outer_knuckle:\n",
    "* masa: 0.00684839\n",
    "* inercia: 1.38892e-06 1.28691e-06 2.45951e-07\n",
    "\n",
    "right_outer_finger:\n",
    "* masa: 0.0273094\n",
    "* inercia: 8.53972e-06 6.91333e-06 2.22664e-06"
   ]
  },
  {
   "cell_type": "markdown",
   "metadata": {},
   "source": [
    "### ***articulaciones***\n",
    "\n",
    "TODO: agregar modelo del motor segun mujoco\n",
    "\n",
    "TIPO MOTOR  \n",
    "\n",
    "\n",
    "joint1:\n",
    "* rango de control: [-3.141 3.141] radianes\n",
    "* engranaje  o velocidad: 100\n",
    "\n",
    "joint2:\n",
    "* rango de control: [ 0 4.712]\n",
    "* engranaje o velocidad: 5\n",
    "\n",
    "joint3:\n",
    "* rango de control: [-3.141 3.141] radianes\n",
    "* engranaje  o velocidad: 5\n",
    "\n",
    "joint4:\n",
    "* rango de control: [-3.141 3.141] radianes\n",
    "* engranaje  o velocidad: 2\n",
    "\n",
    "joint5:\n",
    "* rango de control: [-3.141 3.141] radianes\n",
    "* engranaje  o velocidad: 2\n",
    "\n",
    "joint6:\n",
    "* rango de control: [-3.141 3.141] radianes\n",
    "* engranaje  o velocidad: 5\n"
   ]
  },
  {
   "cell_type": "markdown",
   "metadata": {},
   "source": [
    "### ***Datos del ambiente***\n",
    "limites del target: x(-0.3, 0.1) y(-0.4, 0.4) z(0.45, 0.7)\n"
   ]
  }
 ],
 "metadata": {
  "interpreter": {
   "hash": "31f2aee4e71d21fbe5cf8b01ff0e069b9275f58929596ceb00d14d90e3e16cd6"
  },
  "kernelspec": {
   "display_name": "Python 3.6.9 64-bit",
   "language": "python",
   "name": "python3"
  },
  "language_info": {
   "name": "python",
   "version": "3.6.9"
  },
  "orig_nbformat": 4
 },
 "nbformat": 4,
 "nbformat_minor": 2
}
