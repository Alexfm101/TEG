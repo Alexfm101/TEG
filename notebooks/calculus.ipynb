{
 "cells": [
  {
   "cell_type": "code",
   "execution_count": 3,
   "id": "f20496aa",
   "metadata": {},
   "outputs": [],
   "source": [
    "import mujoco_py\n",
    "import numpy as np"
   ]
  },
  {
   "cell_type": "code",
   "execution_count": 4,
   "id": "6958585b",
   "metadata": {},
   "outputs": [],
   "source": [
    "# creacion del modelo del robot\n",
    "model = mujoco_py.load_model_from_path(\"RobotEnv/assets/UR5/robotModelV2.xml\")\n",
    "sim = mujoco_py.MjSim(model)\n",
    "#viewer = mujoco_py.MjViewer(sim)"
   ]
  },
  {
   "cell_type": "code",
   "execution_count": null,
   "id": "668f8ca1",
   "metadata": {},
   "outputs": [],
   "source": []
  }
 ],
 "metadata": {
  "kernelspec": {
   "display_name": "Python 3",
   "language": "python",
   "name": "python3"
  },
  "language_info": {
   "codemirror_mode": {
    "name": "ipython",
    "version": 3
   },
   "file_extension": ".py",
   "mimetype": "text/x-python",
   "name": "python",
   "nbconvert_exporter": "python",
   "pygments_lexer": "ipython3",
   "version": "3.6.9"
  }
 },
 "nbformat": 4,
 "nbformat_minor": 5
}
