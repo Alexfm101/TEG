{
 "cells": [
  {
   "cell_type": "markdown",
   "metadata": {},
   "source": [
    "<h1 style=\"color:MediumSeaGreen;\">Entrenamiento de los diferentes agentes</h1>"
   ]
  },
  {
   "cell_type": "code",
   "execution_count": 1,
   "metadata": {},
   "outputs": [],
   "source": [
    "import gym\n",
    "from RobotEnv.envs.UR5_Env import UR5_EnvTest #acuerdate de agregar TEG para colab\n",
    "from spinup import vpg_pytorch as vpg\n",
    "from spinup import ddpg_pytorch as ddpg\n",
    "import spinup.algos.pytorch.ddpg.core as core\n",
    "import torch.nn as nn\n"
   ]
  },
  {
   "cell_type": "markdown",
   "metadata": {},
   "source": [
    "### agente Thursday \n",
    "\n",
    "<h4 style=\"color:DodgerBlue;\">Caracteristicas del ambiente</h4>\n",
    "\n",
    "* pasos de muestreo: 8ms ó 125Hz (simulation_frames = 4)\n",
    "* control del torque: 0.01 N/m\n",
    "* distancia minima para completar la tarea: 5cm\n",
    "\n",
    "<h4 style=\"color:DodgerBlue;\">caracteristicas del algoritmo</h4>\n",
    "\n",
    "* algoritmo ddpg\n",
    "* función de activación de la NN: ReLU\n",
    "* tamaño de la politica: 32x32\n",
    "* tamaño del episodio: 4 seg (max_ep_len=500)"
   ]
  },
  {
   "cell_type": "code",
   "execution_count": null,
   "metadata": {},
   "outputs": [],
   "source": [
    "# entrenar\n",
    "env = lambda: UR5_EnvTest(simulation_frames=4, torque_control= 0.01, distance_threshold=0.05, gui=False)\n",
    "\n",
    "logger_kwargs = dict(output_dir='agents/thursday', exp_name='politica 1')\n",
    "ac_kwargs = dict(hidden_sizes=[32,32], activation=nn.ReLU)\n",
    "\n",
    "\n",
    "ddpg(env, actor_critic=core.MLPActorCritic, ac_kwargs=ac_kwargs, seed=0,\n",
    "    steps_per_epoch=4000, epochs=100, replay_size=1000000, gamma=0.99,\n",
    "    polyak=0.995, pi_lr=0.001, q_lr=0.001, batch_size=100, start_steps=10000,\n",
    "    update_after=1000, update_every=50, act_noise=0.1, num_test_episodes=10,\n",
    "    max_ep_len=500, logger_kwargs=logger_kwargs, save_freq=1)\n"
   ]
  },
  {
   "cell_type": "markdown",
   "metadata": {},
   "source": [
    "### agente Friday\n",
    "\n",
    "<h4 style=\"color:DodgerBlue;\">Caracteristicas del ambiente</h4>\n",
    "\n",
    "* pasos de muestreo: 8ms ó 125Hz (simulation_frames = 4)\n",
    "* control del torque: 0.01 N/m\n",
    "* distancia minima para completar la tarea: 5cm\n",
    "\n",
    "<h4 style=\"color:DodgerBlue;\">caracteristicas del algoritmo</h4>\n",
    "\n",
    "* algoritmo ddpg\n",
    "* función de activación de la NN: ReLU\n",
    "* tamaño de la politica: 100x100\n",
    "* tamaño del episodio: 4 seg (max_ep_len=500)"
   ]
  },
  {
   "cell_type": "code",
   "execution_count": null,
   "metadata": {},
   "outputs": [],
   "source": [
    "# entrenar\n",
    "env = lambda: UR5_EnvTest(simulation_frames=4, torque_control= 0.01, distance_threshold=0.05, gui=False)\n",
    "\n",
    "logger_kwargs = dict(output_dir='agents/friday', exp_name='politica 2')\n",
    "ac_kwargs = dict(hidden_sizes=[100,100], activation=nn.ReLU)\n",
    "\n",
    "\n",
    "ddpg(env, actor_critic=core.MLPActorCritic, ac_kwargs=ac_kwargs, seed=0,\n",
    "    steps_per_epoch=4000, epochs=100, replay_size=1000000, gamma=0.99,\n",
    "    polyak=0.995, pi_lr=0.001, q_lr=0.001, batch_size=100, start_steps=10000,\n",
    "    update_after=1000, update_every=50, act_noise=0.1, num_test_episodes=10,\n",
    "    max_ep_len=500, logger_kwargs=logger_kwargs, save_freq=1)\n"
   ]
  },
  {
   "cell_type": "markdown",
   "metadata": {},
   "source": [
    "### agente sunday\n",
    "\n",
    "<h4 style=\"color:DodgerBlue;\">Caracteristicas del ambiente</h4>\n",
    "\n",
    "* pasos de muestreo: 8ms ó 125Hz (simulation_frames = 4)\n",
    "* control del torque: 0.01 N/m\n",
    "* distancia minima para completar la tarea: 5cm\n",
    "\n",
    "<h4 style=\"color:DodgerBlue;\">caracteristicas del algoritmo</h4>\n",
    "\n",
    "* <p style=\"\">algoritmo ddpg</p>\n",
    "* función de activación de la NN: ReLU\n",
    "* tamaño de la politica: 400x300\n",
    "* tamaño del episodio: 4 seg (max_ep_len=500)"
   ]
  },
  {
   "cell_type": "code",
   "execution_count": null,
   "metadata": {},
   "outputs": [],
   "source": [
    "# entrenar\n",
    "env = lambda: UR5_EnvTest(simulation_frames=4, torque_control= 0.01, distance_threshold=0.05, gui=False)\n",
    "\n",
    "logger_kwargs = dict(output_dir='agents/sunday', exp_name='politica 3')\n",
    "ac_kwargs = dict(hidden_sizes=[400,300], activation=nn.ReLU)\n",
    "\n",
    "\n",
    "ddpg(env, actor_critic=core.MLPActorCritic, ac_kwargs=ac_kwargs, seed=0,\n",
    "    steps_per_epoch=4000, epochs=100, replay_size=1000000, gamma=0.99,\n",
    "    polyak=0.995, pi_lr=0.001, q_lr=0.001, batch_size=100, start_steps=10000,\n",
    "    update_after=1000, update_every=50, act_noise=0.1, num_test_episodes=10,\n",
    "    max_ep_len=500, logger_kwargs=logger_kwargs, save_freq=1)"
   ]
  }
 ],
 "metadata": {
  "interpreter": {
   "hash": "31f2aee4e71d21fbe5cf8b01ff0e069b9275f58929596ceb00d14d90e3e16cd6"
  },
  "kernelspec": {
   "display_name": "Python 3.6.9 64-bit",
   "language": "python",
   "name": "python3"
  },
  "language_info": {
   "codemirror_mode": {
    "name": "ipython",
    "version": 3
   },
   "file_extension": ".py",
   "mimetype": "text/x-python",
   "name": "python",
   "nbconvert_exporter": "python",
   "pygments_lexer": "ipython3",
   "version": "3.6.9"
  },
  "orig_nbformat": 4
 },
 "nbformat": 4,
 "nbformat_minor": 2
}
