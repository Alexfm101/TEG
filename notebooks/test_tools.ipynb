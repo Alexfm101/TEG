{
 "cells": [
  {
   "cell_type": "markdown",
   "metadata": {},
   "source": [
    "# Testing tools of RobotEnv"
   ]
  },
  {
   "cell_type": "code",
   "execution_count": 6,
   "metadata": {},
   "outputs": [],
   "source": [
    "# importar librerias\n",
    "import time\n",
    "import numpy as np\n",
    "import matplotlib.pyplot as plt\n",
    "from scipy.interpolate import BSpline, make_interp_spline \n",
    "import mujoco_py\n",
    "\n",
    "from RobotEnv.tools.controllers import PID\n",
    "from RobotEnv.tools import simulation\n",
    "from RobotEnv.tools.controllers import Manipulator_Agent\n",
    "from RobotEnv.tools.logger import Logger\n",
    "\n",
    "import glfw\n"
   ]
  },
  {
   "cell_type": "markdown",
   "metadata": {},
   "source": [
    "## Test PID"
   ]
  },
  {
   "cell_type": "code",
   "execution_count": 3,
   "metadata": {},
   "outputs": [
    {
     "data": {
      "image/png": "[encoded data removed]",
      "text/plain": [
       "<Figure size 432x288 with 1 Axes>"
      ]
     },
     "metadata": {
      "needs_background": "light"
     },
     "output_type": "display_data"
    }
   ],
   "source": [
    "def main():\n",
    "\n",
    "    L = 50\n",
    "    pid = PID(P=0.7,I=1.5, D=0.001)\n",
    "\n",
    "    pid.r_t = 0.0\n",
    "    pid.set_sample_time(0.01)\n",
    "\n",
    "\n",
    "    END = L\n",
    "    y_t = 0\n",
    "\n",
    "    y_t_list  = []\n",
    "    time_list = []\n",
    "    r_t_list = []\n",
    "\n",
    "    for i in range(1, END):\n",
    "        pid.update(y_t)\n",
    "        u_t = pid.u_t\n",
    "        if pid.r_t > 0:\n",
    "            y_t += (u_t - (1/i))\n",
    "        if  i > 9:\n",
    "            pid.r_t = 1\n",
    "\n",
    "\n",
    "        time.sleep(0.02)\n",
    "\n",
    "        y_t_list.append(y_t)\n",
    "        r_t_list.append(pid.r_t)\n",
    "        time_list.append(i)\n",
    "\n",
    "    time_sm = np.array(time_list)\n",
    "    time_smooth = np.linspace(time_sm.min(), time_sm.max(), 300)\n",
    "\n",
    "    helper_x3 = make_interp_spline(time_list, y_t_list)\n",
    "    feedback_smooth = helper_x3(time_smooth)\n",
    "\n",
    "    plt.plot(time_smooth, feedback_smooth)\n",
    "    plt.plot(time_list, r_t_list)\n",
    "    plt.xlim((0, L))\n",
    "    plt.ylim((min(y_t_list)-0.5, max(y_t_list)+0.5))\n",
    "    plt.xlabel('time (s)')\n",
    "    plt.ylabel('PID (PV)')\n",
    "    plt.title('TEST PID')\n",
    "\n",
    "    plt.ylim((1-0.5, 1+0.5))\n",
    "\n",
    "    plt.grid(True)\n",
    "    plt.show()\n",
    "\n",
    "if __name__ == '__main__':\n",
    "    main()"
   ]
  },
  {
   "cell_type": "markdown",
   "metadata": {},
   "source": [
    "## Test simulation"
   ]
  },
  {
   "cell_type": "code",
   "execution_count": 4,
   "metadata": {},
   "outputs": [
    {
     "name": "stdout",
     "output_type": "stream",
     "text": [
      "Creating window glfw\n",
      "<mujoco_py.cymj.MjSim object at 0x7fbbc5efeae8>\n"
     ]
    }
   ],
   "source": [
    "def main():\n",
    "    \n",
    "    #simulator\n",
    "    sim = simulation.create_simulation('robotModelV2.xml')\n",
    "\n",
    "    #viewer\n",
    "    viewer = simulation.create_viewer(sim)\n",
    "\n",
    "    print(sim)\n",
    "\n",
    "if __name__ == '__main__':\n",
    "    main()"
   ]
  },
  {
   "cell_type": "markdown",
   "metadata": {},
   "source": [
    "## Test agent controller"
   ]
  },
  {
   "cell_type": "code",
   "execution_count": 5,
   "metadata": {},
   "outputs": [
    {
     "name": "stdout",
     "output_type": "stream",
     "text": [
      "Creating window glfw\n"
     ]
    }
   ],
   "source": [
    "def main():\n",
    "    #simulator\n",
    "    sim = simulation.create_simulation(\"robotModelV2.xml\")\n",
    "    \n",
    "    #controller\n",
    "    controller = Manipulator_Agent(\"../agents/ddpg4/pyt_save/model.pt\", sim, 4, render=True)\n",
    "\n",
    "    for i in range(10):\n",
    "        controller.move_to(np.array([0.1, 0.1, 0.5]), timer=100)\n",
    "\n",
    "\n",
    "    #para terminar la simulacion renderizada\n",
    "    glfw.terminate()\n",
    "\n",
    "\n",
    "if __name__ == '__main__':\n",
    "    main()"
   ]
  },
  {
   "cell_type": "markdown",
   "metadata": {},
   "source": [
    "## test plots"
   ]
  },
  {
   "cell_type": "code",
   "execution_count": 11,
   "metadata": {},
   "outputs": [
    {
     "name": "stdout",
     "output_type": "stream",
     "text": [
      "resuelto en: 0 seg\n",
      "resuelto en: 0 seg\n",
      "resuelto en: 0 seg\n",
      "resuelto en: 0 seg\n",
      "resuelto en: 0 seg\n"
     ]
    },
    {
     "data": {
      "image/png": "[encoded data removed]",
      "text/plain": [
       "<Figure size 432x288 with 1 Axes>"
      ]
     },
     "metadata": {
      "needs_background": "light"
     },
     "output_type": "display_data"
    }
   ],
   "source": [
    "def main():\n",
    "    #simulator\n",
    "    sim = simulation.create_simulation(\"robotModelV2.xml\")\n",
    "\n",
    "    #controller\n",
    "    controller = Manipulator_Agent(\"../agents/ddpg4/pyt_save/model.pt\", sim, 4, render=False)\n",
    "\n",
    "    # data recollector\n",
    "    logger = Logger()\n",
    "    output = []\n",
    "    time_list = []\n",
    "    x = [i/100 for i in range(-40,40)]\n",
    "\n",
    "\n",
    "    for i in range(len(x)):\n",
    "        controller.move_to(np.array([0.1, 0.1, 0.5]), timer=100)\n",
    "        \n",
    "        output.append(sim.data.get_body_xpos(\"left_inner_finger\")[0].astype(np.float32))\n",
    "        time_list.append(i)\n",
    "        \n",
    "    \n",
    "    logger.plot_trajectory(time_list,  output)\n",
    "    logger.plot_error(time_list, error_a=x, error_b=output)\n",
    "\n",
    "    \n",
    "\n",
    "    glfw.terminate()\n",
    "\n",
    "\n",
    "\n",
    "if __name__ ==  '__main__':\n",
    "    main()\n"
   ]
  }
 ],
 "metadata": {
  "interpreter": {
   "hash": "31f2aee4e71d21fbe5cf8b01ff0e069b9275f58929596ceb00d14d90e3e16cd6"
  },
  "kernelspec": {
   "display_name": "Python 3.6.9 64-bit",
   "language": "python",
   "name": "python3"
  },
  "language_info": {
   "codemirror_mode": {
    "name": "ipython",
    "version": 3
   },
   "file_extension": ".py",
   "mimetype": "text/x-python",
   "name": "python",
   "nbconvert_exporter": "python",
   "pygments_lexer": "ipython3",
   "version": "3.6.9"
  },
  "orig_nbformat": 4
 },
 "nbformat": 4,
 "nbformat_minor": 2
}
