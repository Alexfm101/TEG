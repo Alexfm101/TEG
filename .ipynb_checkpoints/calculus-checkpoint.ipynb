{
 "cells": [
  {
   "cell_type": "code",
   "execution_count": 1,
   "id": "623cad97",
   "metadata": {},
   "outputs": [],
   "source": [
    "import mujoco_py"
   ]
  },
  {
   "cell_type": "code",
   "execution_count": 3,
   "id": "3dc3e2bc",
   "metadata": {},
   "outputs": [],
   "source": [
    "# creacion del modelo del robot\n",
    "model = mujoco_py.load_model_from_path(\"RobotEnv/assets/UR5/robotModelV2.xml\")\n",
    "sim = mujoco_py.MjSim(model)\n",
    "#viewer = mujoco_py.MjViewer(sim)"
   ]
  },
  {
   "cell_type": "code",
   "execution_count": 4,
   "id": "20b1137f",
   "metadata": {},
   "outputs": [
    {
     "data": {
      "text/plain": [
       "MjSimState(time=0.0, qpos=array([0., 0., 0., 0., 0., 0.]), qvel=array([0., 0., 0., 0., 0., 0.]), act=None, udd_state={})"
      ]
     },
     "execution_count": 4,
     "metadata": {},
     "output_type": "execute_result"
    }
   ],
   "source": [
    "sim.get_state()"
   ]
  },
  {
   "cell_type": "code",
   "execution_count": null,
   "id": "f68cdd7c",
   "metadata": {},
   "outputs": [],
   "source": [
    "sim_state"
   ]
  }
 ],
 "metadata": {
  "kernelspec": {
   "display_name": "Python 3",
   "language": "python",
   "name": "python3"
  },
  "language_info": {
   "codemirror_mode": {
    "name": "ipython",
    "version": 3
   },
   "file_extension": ".py",
   "mimetype": "text/x-python",
   "name": "python",
   "nbconvert_exporter": "python",
   "pygments_lexer": "ipython3",
   "version": "3.6.9"
  }
 },
 "nbformat": 4,
 "nbformat_minor": 5
}
