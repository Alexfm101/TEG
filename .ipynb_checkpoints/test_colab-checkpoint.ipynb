{
 "cells": [
  {
   "cell_type": "code",
   "execution_count": null,
   "id": "b46ba94a",
   "metadata": {},
   "outputs": [
    {
     "name": "stdout",
     "output_type": "stream",
     "text": [
      "[sudo] contraseña para alexis: "
     ]
    }
   ],
   "source": [
    "# preparando entorno para mujoco en colab\n",
    "!sudo apt-get update \n",
    "!sudo apt-get install gcc\n",
    "\n",
    "!sudo apt-get build-dep mesa\n",
    "!sudo apt-get install llvm-dev\n",
    "!sudo apt-get install freeglut3 freeglut3-dev\n",
    "\n",
    "!sudo apt-get install python3-dev\n",
    "!sudo apt-get install build-essential\n",
    "\n",
    "\n",
    "!sudo apt install curl git libgl1-mesa-dev libgl1-mesa-glx libglew-dev \\\n",
    "        libosmesa6-dev software-properties-common net-tools unzip vim \\\n",
    "        virtualenv wget xpra xserver-xorg-dev libglfw3-dev patchelf\n",
    "\n",
    "\n"
   ]
  },
  {
   "cell_type": "code",
   "execution_count": null,
   "id": "64b2b33a",
   "metadata": {},
   "outputs": [],
   "source": [
    "# instalar mujoco\n",
    "!wget https://github.com/deepmind/mujoco/releases/download/2.1.0/mujoco210-linux-x86_64.tar.gz\n",
    "    "
   ]
  },
  {
   "cell_type": "markdown",
   "id": "94a4ed92",
   "metadata": {},
   "source": [
    "!mkdir /root/.mujoco\n",
    "!tar -xf mujoco210-linux-x86_64.tar.gz -C /.mujoco/\n",
    "!ls -alh /.mujoco/mujoco210"
   ]
  },
  {
   "cell_type": "code",
   "execution_count": null,
   "id": "8a1c48a9",
   "metadata": {},
   "outputs": [],
   "source": [
    "# instalar mujoco py\n",
    "!pip3 install -U 'mujoco_py<2.2,>=2.1'"
   ]
  },
  {
   "cell_type": "code",
   "execution_count": null,
   "id": "3350a2de",
   "metadata": {},
   "outputs": [],
   "source": [
    "# ejemplo de que funciona todo\n",
    "import mujoco_py\n",
    "import os\n",
    "\n",
    "\n",
    "mj_path = mujoco_py.utils.discover_mujoco()\n",
    "xml_path = os.path.join(mj_path, 'model', 'humanoid.xml')\n",
    "model = mujoco_py.load_model_from_path(xml_path)\n",
    "sim = mujoco_py.MjSim(model)\n",
    "\n",
    "print(sim.data.qpos)\n",
    "sim.step()\n",
    "print(sim.data.qpos)"
   ]
  }
 ],
 "metadata": {
  "kernelspec": {
   "display_name": "Python 3",
   "language": "python",
   "name": "python3"
  },
  "language_info": {
   "codemirror_mode": {
    "name": "ipython",
    "version": 3
   },
   "file_extension": ".py",
   "mimetype": "text/x-python",
   "name": "python",
   "nbconvert_exporter": "python",
   "pygments_lexer": "ipython3",
   "version": "3.6.9"
  }
 },
 "nbformat": 4,
 "nbformat_minor": 5
}
